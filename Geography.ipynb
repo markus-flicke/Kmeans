{
 "cells": [
  {
   "cell_type": "code",
   "execution_count": 1,
   "metadata": {},
   "outputs": [],
   "source": [
    "import pandas as pd\n",
    "from Kmeans import Kmeans\n",
    "from GeographicDistances.Point import *\n",
    "import numpy as np\n",
    "import random"
   ]
  },
  {
   "cell_type": "code",
   "execution_count": 2,
   "metadata": {
    "scrolled": false
   },
   "outputs": [],
   "source": [
    "# df = pd.DataFrame(pd.read_msgpack('GeographicDistances/geography').index)\n",
    "# df.columns = ['country']\n",
    "# kmeans = Kmeans(df, k = 3, country_column = 'country')\n",
    "# kmeans.calculate(iterations=15)\n",
    "# # kmeans.trialsUntilMinimalDissimilarity()\n",
    "# result = kmeans.classifiedDF.sort_values('centroid')\n",
    "# result[:2]"
   ]
  },
  {
   "cell_type": "code",
   "execution_count": 3,
   "metadata": {},
   "outputs": [],
   "source": [
    "# result['code'] = result.country.apply(lambda point: point.country_code)\n",
    "# result = geo_df.merge(result, right_on = 'code', left_index = True).sort_values('centroid')"
   ]
  },
  {
   "cell_type": "code",
   "execution_count": 4,
   "metadata": {
    "scrolled": false
   },
   "outputs": [
    {
     "name": "stderr",
     "output_type": "stream",
     "text": [
      "/Users/m/Work/Doxa/Kmeans/Kmeans.py:27: SettingWithCopyWarning: \n",
      "A value is trying to be set on a copy of a slice from a DataFrame.\n",
      "Try using .loc[row_indexer,col_indexer] = value instead\n",
      "\n",
      "See the caveats in the documentation: http://pandas.pydata.org/pandas-docs/stable/indexing.html#indexing-view-versus-copy\n",
      "  self.df[self.country_column] = self.df[self.country_column].apply(lambda code: Point(code))\n"
     ]
    },
    {
     "name": "stdout",
     "output_type": "stream",
     "text": [
      "0\n",
      "Empty Mean: Reshuffleing meansIndex\n",
      "Empty Mean: Reshuffleing meansIndex\n",
      "Empty Mean: Reshuffleing meansIndex\n",
      "Empty Mean: Reshuffleing meansIndex\n",
      "Empty Mean: Reshuffleing meansIndex\n",
      "Empty Mean: Reshuffleing meansIndex\n",
      "Empty Mean: Reshuffleing meansIndex\n",
      "Empty Mean: Reshuffleing meansIndex\n",
      "Empty Mean: Reshuffleing meansIndex\n",
      "Empty Mean: Reshuffleing meansIndex\n",
      "Empty Mean: Reshuffleing meansIndex\n",
      "Empty Mean: Reshuffleing meansIndex\n",
      "Empty Mean: Reshuffleing meansIndex\n",
      "Empty Mean: Reshuffleing meansIndex\n",
      "Empty Mean: Reshuffleing meansIndex\n",
      "Empty Mean: Reshuffleing meansIndex\n",
      "Empty Mean: Reshuffleing meansIndex\n",
      "Empty Mean: Reshuffleing meansIndex\n",
      "Empty Mean: Reshuffleing meansIndex\n",
      "Empty Mean: Reshuffleing meansIndex\n",
      "Empty Mean: Reshuffleing meansIndex\n",
      "Empty Mean: Reshuffleing meansIndex\n",
      "Empty Mean: Reshuffleing meansIndex\n",
      "Empty Mean: Reshuffleing meansIndex\n"
     ]
    },
    {
     "data": {
      "text/html": [
       "<div>\n",
       "<style scoped>\n",
       "    .dataframe tbody tr th:only-of-type {\n",
       "        vertical-align: middle;\n",
       "    }\n",
       "\n",
       "    .dataframe tbody tr th {\n",
       "        vertical-align: top;\n",
       "    }\n",
       "\n",
       "    .dataframe thead th {\n",
       "        text-align: right;\n",
       "    }\n",
       "</style>\n",
       "<table border=\"1\" class=\"dataframe\">\n",
       "  <thead>\n",
       "    <tr style=\"text-align: right;\">\n",
       "      <th></th>\n",
       "      <th>Country of Risk</th>\n",
       "      <th>IRR</th>\n",
       "      <th>centroid</th>\n",
       "    </tr>\n",
       "  </thead>\n",
       "  <tbody>\n",
       "    <tr>\n",
       "      <th>76</th>\n",
       "      <td>US(-95.712891,37.09024)</td>\n",
       "      <td>0.068799</td>\n",
       "      <td>0</td>\n",
       "    </tr>\n",
       "    <tr>\n",
       "      <th>49</th>\n",
       "      <td>US(-95.712891,37.09024)</td>\n",
       "      <td>0.083968</td>\n",
       "      <td>0</td>\n",
       "    </tr>\n",
       "  </tbody>\n",
       "</table>\n",
       "</div>"
      ],
      "text/plain": [
       "            Country of Risk       IRR  centroid\n",
       "76  US(-95.712891,37.09024)  0.068799         0\n",
       "49  US(-95.712891,37.09024)  0.083968         0"
      ]
     },
     "execution_count": 4,
     "metadata": {},
     "output_type": "execute_result"
    }
   ],
   "source": [
    "df = pd.read_msgpack('../CreditAnalysis/CreditData')\n",
    "kmeans = Kmeans(df[['Country of Risk','IRR']], k = 5, country_column = 'Country of Risk')\n",
    "kmeans.calculate(iterations=7)\n",
    "result = kmeans.classifiedDF.sort_values('centroid')\n",
    "result[:2]"
   ]
  },
  {
   "cell_type": "code",
   "execution_count": 5,
   "metadata": {},
   "outputs": [],
   "source": [
    "result['code'] = result['Country of Risk'].apply(lambda point: point.country_code)\n",
    "xres = df.merge(result, left_index = True, right_index = True).sort_values('centroid')\n",
    "gbo = xres.groupby('centroid')"
   ]
  },
  {
   "cell_type": "code",
   "execution_count": 6,
   "metadata": {},
   "outputs": [
    {
     "data": {
      "text/plain": [
       "centroid\n",
       "0    0.070441\n",
       "1    0.475818\n",
       "2    0.088631\n",
       "3   -1.551221\n",
       "4   -0.262848\n",
       "Name: IRR_x, dtype: float64"
      ]
     },
     "execution_count": 6,
     "metadata": {},
     "output_type": "execute_result"
    }
   ],
   "source": [
    "gbo.IRR_x.mean()"
   ]
  },
  {
   "cell_type": "code",
   "execution_count": 11,
   "metadata": {},
   "outputs": [
    {
     "data": {
      "text/html": [
       "<div>\n",
       "<style scoped>\n",
       "    .dataframe tbody tr th:only-of-type {\n",
       "        vertical-align: middle;\n",
       "    }\n",
       "\n",
       "    .dataframe tbody tr th {\n",
       "        vertical-align: top;\n",
       "    }\n",
       "\n",
       "    .dataframe thead th {\n",
       "        text-align: right;\n",
       "    }\n",
       "</style>\n",
       "<table border=\"1\" class=\"dataframe\">\n",
       "  <thead>\n",
       "    <tr style=\"text-align: right;\">\n",
       "      <th></th>\n",
       "      <th>InstrumentIdentifier</th>\n",
       "      <th>Name</th>\n",
       "      <th>Currency</th>\n",
       "      <th>CIQSector</th>\n",
       "      <th>CIQIndustry</th>\n",
       "      <th>EFM</th>\n",
       "      <th>Rating</th>\n",
       "      <th>Country of Risk_x</th>\n",
       "      <th>IRR_x</th>\n",
       "      <th>Country of Risk_y</th>\n",
       "      <th>IRR_y</th>\n",
       "      <th>centroid</th>\n",
       "      <th>code</th>\n",
       "    </tr>\n",
       "  </thead>\n",
       "  <tbody>\n",
       "    <tr>\n",
       "      <th>29</th>\n",
       "      <td>US111621AQ12</td>\n",
       "      <td>BROCADE COMMUNICATIONS 1.375% 01/01/20  CVT</td>\n",
       "      <td>USD</td>\n",
       "      <td>Information Technology</td>\n",
       "      <td>Semiconductors and Semiconductor Equipment</td>\n",
       "      <td>DM</td>\n",
       "      <td>11.0</td>\n",
       "      <td>US</td>\n",
       "      <td>0.218820</td>\n",
       "      <td>US(-95.712891,37.09024)</td>\n",
       "      <td>0.218820</td>\n",
       "      <td>1</td>\n",
       "      <td>US</td>\n",
       "    </tr>\n",
       "    <tr>\n",
       "      <th>70</th>\n",
       "      <td>USP9634CAA91</td>\n",
       "      <td>USJ ACUCAR E ALCOOL SA 9.875% 11/09/19 SR:REGS</td>\n",
       "      <td>USD</td>\n",
       "      <td>Real Estate</td>\n",
       "      <td>Real Estate Management and Development</td>\n",
       "      <td>EFM</td>\n",
       "      <td>13.0</td>\n",
       "      <td>BR</td>\n",
       "      <td>0.361407</td>\n",
       "      <td>BR(-51.92528,-14.235004)</td>\n",
       "      <td>0.361407</td>\n",
       "      <td>1</td>\n",
       "      <td>BR</td>\n",
       "    </tr>\n",
       "    <tr>\n",
       "      <th>122</th>\n",
       "      <td>XS0923472814</td>\n",
       "      <td>NORD GOLD NV 6.375% 05/07/18 SR:REGS</td>\n",
       "      <td>USD</td>\n",
       "      <td>Materials</td>\n",
       "      <td>Metals and Mining</td>\n",
       "      <td>EFM</td>\n",
       "      <td>13.0</td>\n",
       "      <td>RU</td>\n",
       "      <td>0.383444</td>\n",
       "      <td>RU(105.318756,61.52401)</td>\n",
       "      <td>0.383444</td>\n",
       "      <td>1</td>\n",
       "      <td>RU</td>\n",
       "    </tr>\n",
       "    <tr>\n",
       "      <th>84</th>\n",
       "      <td>XS0230141813</td>\n",
       "      <td>MAN STRATEGIC HDGS LTD FLT 09/22/15</td>\n",
       "      <td>USD</td>\n",
       "      <td>Financials</td>\n",
       "      <td>Capital Markets</td>\n",
       "      <td>DM</td>\n",
       "      <td>8.0</td>\n",
       "      <td>GB</td>\n",
       "      <td>1.006934</td>\n",
       "      <td>GB(-3.435973,55.378051)</td>\n",
       "      <td>1.006934</td>\n",
       "      <td>1</td>\n",
       "      <td>GB</td>\n",
       "    </tr>\n",
       "    <tr>\n",
       "      <th>114</th>\n",
       "      <td>XS0841671000</td>\n",
       "      <td>SEVERSTAL (STEEL CAP) 5.900% 10/17/22 SR:REGS</td>\n",
       "      <td>USD</td>\n",
       "      <td>Materials</td>\n",
       "      <td>Metals and Mining</td>\n",
       "      <td>EFM</td>\n",
       "      <td>11.0</td>\n",
       "      <td>RU</td>\n",
       "      <td>0.408484</td>\n",
       "      <td>RU(105.318756,61.52401)</td>\n",
       "      <td>0.408484</td>\n",
       "      <td>1</td>\n",
       "      <td>RU</td>\n",
       "    </tr>\n",
       "  </tbody>\n",
       "</table>\n",
       "</div>"
      ],
      "text/plain": [
       "    InstrumentIdentifier                                            Name  \\\n",
       "29          US111621AQ12     BROCADE COMMUNICATIONS 1.375% 01/01/20  CVT   \n",
       "70          USP9634CAA91  USJ ACUCAR E ALCOOL SA 9.875% 11/09/19 SR:REGS   \n",
       "122         XS0923472814            NORD GOLD NV 6.375% 05/07/18 SR:REGS   \n",
       "84          XS0230141813             MAN STRATEGIC HDGS LTD FLT 09/22/15   \n",
       "114         XS0841671000   SEVERSTAL (STEEL CAP) 5.900% 10/17/22 SR:REGS   \n",
       "\n",
       "    Currency               CIQSector  \\\n",
       "29       USD  Information Technology   \n",
       "70       USD             Real Estate   \n",
       "122      USD               Materials   \n",
       "84       USD              Financials   \n",
       "114      USD               Materials   \n",
       "\n",
       "                                    CIQIndustry  EFM  Rating  \\\n",
       "29   Semiconductors and Semiconductor Equipment   DM    11.0   \n",
       "70       Real Estate Management and Development  EFM    13.0   \n",
       "122                           Metals and Mining  EFM    13.0   \n",
       "84                              Capital Markets   DM     8.0   \n",
       "114                           Metals and Mining  EFM    11.0   \n",
       "\n",
       "    Country of Risk_x     IRR_x         Country of Risk_y     IRR_y  centroid  \\\n",
       "29                 US  0.218820   US(-95.712891,37.09024)  0.218820         1   \n",
       "70                 BR  0.361407  BR(-51.92528,-14.235004)  0.361407         1   \n",
       "122                RU  0.383444   RU(105.318756,61.52401)  0.383444         1   \n",
       "84                 GB  1.006934   GB(-3.435973,55.378051)  1.006934         1   \n",
       "114                RU  0.408484   RU(105.318756,61.52401)  0.408484         1   \n",
       "\n",
       "    code  \n",
       "29    US  \n",
       "70    BR  \n",
       "122   RU  \n",
       "84    GB  \n",
       "114   RU  "
      ]
     },
     "execution_count": 11,
     "metadata": {},
     "output_type": "execute_result"
    }
   ],
   "source": [
    "gbo.get_group(1)"
   ]
  },
  {
   "cell_type": "code",
   "execution_count": null,
   "metadata": {},
   "outputs": [],
   "source": []
  }
 ],
 "metadata": {
  "kernelspec": {
   "display_name": "Python 3",
   "language": "python",
   "name": "python3"
  },
  "language_info": {
   "codemirror_mode": {
    "name": "ipython",
    "version": 3
   },
   "file_extension": ".py",
   "mimetype": "text/x-python",
   "name": "python",
   "nbconvert_exporter": "python",
   "pygments_lexer": "ipython3",
   "version": "3.6.5"
  }
 },
 "nbformat": 4,
 "nbformat_minor": 2
}
